{
 "cells": [
  {
   "cell_type": "code",
   "execution_count": 1,
   "id": "cb2533d5-fa9b-4b39-b8c0-41de5a5334b3",
   "metadata": {},
   "outputs": [
    {
     "name": "stdout",
     "output_type": "stream",
     "text": [
      "Versions: pandas 2.3.3 | numpy 2.3.3\n"
     ]
    }
   ],
   "source": [
    "import pandas as pd\n",
    "import numpy as np\n",
    "import seaborn as sbs\n",
    "\n",
    "pd.set_option('display.max_columns', None)\n",
    "pd.set_option('display.width', 120)\n",
    "print(\"Versions:\",\n",
    "      \"pandas\", pd.__version__,\n",
    "      \"| numpy\", np.__version__)"
   ]
  },
  {
   "cell_type": "raw",
   "id": "f03f5217-7f2d-49ad-a5bd-e5baec296523",
   "metadata": {},
   "source": [
    "2) Load Titanic (built into seaborn) + basic peek"
   ]
  },
  {
   "cell_type": "code",
   "execution_count": 2,
   "id": "eb3d6bb7-0947-4e32-b598-839b784f1f9d",
   "metadata": {},
   "outputs": [
    {
     "data": {
      "text/html": [
       "<div>\n",
       "<style scoped>\n",
       "    .dataframe tbody tr th:only-of-type {\n",
       "        vertical-align: middle;\n",
       "    }\n",
       "\n",
       "    .dataframe tbody tr th {\n",
       "        vertical-align: top;\n",
       "    }\n",
       "\n",
       "    .dataframe thead th {\n",
       "        text-align: right;\n",
       "    }\n",
       "</style>\n",
       "<table border=\"1\" class=\"dataframe\">\n",
       "  <thead>\n",
       "    <tr style=\"text-align: right;\">\n",
       "      <th></th>\n",
       "      <th>survived</th>\n",
       "      <th>pclass</th>\n",
       "      <th>sex</th>\n",
       "      <th>age</th>\n",
       "      <th>sibsp</th>\n",
       "      <th>parch</th>\n",
       "      <th>fare</th>\n",
       "      <th>embarked</th>\n",
       "      <th>class</th>\n",
       "      <th>who</th>\n",
       "      <th>adult_male</th>\n",
       "      <th>deck</th>\n",
       "      <th>embark_town</th>\n",
       "      <th>alive</th>\n",
       "      <th>alone</th>\n",
       "    </tr>\n",
       "  </thead>\n",
       "  <tbody>\n",
       "    <tr>\n",
       "      <th>0</th>\n",
       "      <td>0</td>\n",
       "      <td>3</td>\n",
       "      <td>male</td>\n",
       "      <td>22.0</td>\n",
       "      <td>1</td>\n",
       "      <td>0</td>\n",
       "      <td>7.2500</td>\n",
       "      <td>S</td>\n",
       "      <td>Third</td>\n",
       "      <td>man</td>\n",
       "      <td>True</td>\n",
       "      <td>NaN</td>\n",
       "      <td>Southampton</td>\n",
       "      <td>no</td>\n",
       "      <td>False</td>\n",
       "    </tr>\n",
       "    <tr>\n",
       "      <th>1</th>\n",
       "      <td>1</td>\n",
       "      <td>1</td>\n",
       "      <td>female</td>\n",
       "      <td>38.0</td>\n",
       "      <td>1</td>\n",
       "      <td>0</td>\n",
       "      <td>71.2833</td>\n",
       "      <td>C</td>\n",
       "      <td>First</td>\n",
       "      <td>woman</td>\n",
       "      <td>False</td>\n",
       "      <td>C</td>\n",
       "      <td>Cherbourg</td>\n",
       "      <td>yes</td>\n",
       "      <td>False</td>\n",
       "    </tr>\n",
       "    <tr>\n",
       "      <th>2</th>\n",
       "      <td>1</td>\n",
       "      <td>3</td>\n",
       "      <td>female</td>\n",
       "      <td>26.0</td>\n",
       "      <td>0</td>\n",
       "      <td>0</td>\n",
       "      <td>7.9250</td>\n",
       "      <td>S</td>\n",
       "      <td>Third</td>\n",
       "      <td>woman</td>\n",
       "      <td>False</td>\n",
       "      <td>NaN</td>\n",
       "      <td>Southampton</td>\n",
       "      <td>yes</td>\n",
       "      <td>True</td>\n",
       "    </tr>\n",
       "    <tr>\n",
       "      <th>3</th>\n",
       "      <td>1</td>\n",
       "      <td>1</td>\n",
       "      <td>female</td>\n",
       "      <td>35.0</td>\n",
       "      <td>1</td>\n",
       "      <td>0</td>\n",
       "      <td>53.1000</td>\n",
       "      <td>S</td>\n",
       "      <td>First</td>\n",
       "      <td>woman</td>\n",
       "      <td>False</td>\n",
       "      <td>C</td>\n",
       "      <td>Southampton</td>\n",
       "      <td>yes</td>\n",
       "      <td>False</td>\n",
       "    </tr>\n",
       "    <tr>\n",
       "      <th>4</th>\n",
       "      <td>0</td>\n",
       "      <td>3</td>\n",
       "      <td>male</td>\n",
       "      <td>35.0</td>\n",
       "      <td>0</td>\n",
       "      <td>0</td>\n",
       "      <td>8.0500</td>\n",
       "      <td>S</td>\n",
       "      <td>Third</td>\n",
       "      <td>man</td>\n",
       "      <td>True</td>\n",
       "      <td>NaN</td>\n",
       "      <td>Southampton</td>\n",
       "      <td>no</td>\n",
       "      <td>True</td>\n",
       "    </tr>\n",
       "  </tbody>\n",
       "</table>\n",
       "</div>"
      ],
      "text/plain": [
       "   survived  pclass     sex   age  sibsp  parch     fare embarked  class    who  adult_male deck  embark_town alive  \\\n",
       "0         0       3    male  22.0      1      0   7.2500        S  Third    man        True  NaN  Southampton    no   \n",
       "1         1       1  female  38.0      1      0  71.2833        C  First  woman       False    C    Cherbourg   yes   \n",
       "2         1       3  female  26.0      0      0   7.9250        S  Third  woman       False  NaN  Southampton   yes   \n",
       "3         1       1  female  35.0      1      0  53.1000        S  First  woman       False    C  Southampton   yes   \n",
       "4         0       3    male  35.0      0      0   8.0500        S  Third    man        True  NaN  Southampton    no   \n",
       "\n",
       "   alone  \n",
       "0  False  \n",
       "1  False  \n",
       "2   True  \n",
       "3  False  \n",
       "4   True  "
      ]
     },
     "execution_count": 2,
     "metadata": {},
     "output_type": "execute_result"
    }
   ],
   "source": [
    "df = sbs.load_dataset(\"titanic\")\n",
    "df.head(5)"
   ]
  },
  {
   "cell_type": "raw",
   "id": "eabecb80-bdbe-49a0-8a39-e3f3d5245a34",
   "metadata": {},
   "source": [
    "3) Quick structure and missingness audit:"
   ]
  },
  {
   "cell_type": "code",
   "execution_count": 3,
   "id": "9c73b411-fac9-4b08-9a4d-17158986f3ce",
   "metadata": {},
   "outputs": [
    {
     "name": "stdout",
     "output_type": "stream",
     "text": [
      "<class 'pandas.core.frame.DataFrame'>\n",
      "RangeIndex: 891 entries, 0 to 890\n",
      "Data columns (total 15 columns):\n",
      " #   Column       Non-Null Count  Dtype   \n",
      "---  ------       --------------  -----   \n",
      " 0   survived     891 non-null    int64   \n",
      " 1   pclass       891 non-null    int64   \n",
      " 2   sex          891 non-null    object  \n",
      " 3   age          714 non-null    float64 \n",
      " 4   sibsp        891 non-null    int64   \n",
      " 5   parch        891 non-null    int64   \n",
      " 6   fare         891 non-null    float64 \n",
      " 7   embarked     889 non-null    object  \n",
      " 8   class        891 non-null    category\n",
      " 9   who          891 non-null    object  \n",
      " 10  adult_male   891 non-null    bool    \n",
      " 11  deck         203 non-null    category\n",
      " 12  embark_town  889 non-null    object  \n",
      " 13  alive        891 non-null    object  \n",
      " 14  alone        891 non-null    bool    \n",
      "dtypes: bool(2), category(2), float64(2), int64(4), object(5)\n",
      "memory usage: 80.7+ KB\n"
     ]
    },
    {
     "data": {
      "text/html": [
       "<div>\n",
       "<style scoped>\n",
       "    .dataframe tbody tr th:only-of-type {\n",
       "        vertical-align: middle;\n",
       "    }\n",
       "\n",
       "    .dataframe tbody tr th {\n",
       "        vertical-align: top;\n",
       "    }\n",
       "\n",
       "    .dataframe thead th {\n",
       "        text-align: right;\n",
       "    }\n",
       "</style>\n",
       "<table border=\"1\" class=\"dataframe\">\n",
       "  <thead>\n",
       "    <tr style=\"text-align: right;\">\n",
       "      <th></th>\n",
       "      <th>missing_rate</th>\n",
       "    </tr>\n",
       "  </thead>\n",
       "  <tbody>\n",
       "    <tr>\n",
       "      <th>deck</th>\n",
       "      <td>0.772166</td>\n",
       "    </tr>\n",
       "    <tr>\n",
       "      <th>age</th>\n",
       "      <td>0.198653</td>\n",
       "    </tr>\n",
       "    <tr>\n",
       "      <th>embarked</th>\n",
       "      <td>0.002245</td>\n",
       "    </tr>\n",
       "    <tr>\n",
       "      <th>embark_town</th>\n",
       "      <td>0.002245</td>\n",
       "    </tr>\n",
       "    <tr>\n",
       "      <th>survived</th>\n",
       "      <td>0.000000</td>\n",
       "    </tr>\n",
       "    <tr>\n",
       "      <th>pclass</th>\n",
       "      <td>0.000000</td>\n",
       "    </tr>\n",
       "    <tr>\n",
       "      <th>sex</th>\n",
       "      <td>0.000000</td>\n",
       "    </tr>\n",
       "    <tr>\n",
       "      <th>sibsp</th>\n",
       "      <td>0.000000</td>\n",
       "    </tr>\n",
       "    <tr>\n",
       "      <th>parch</th>\n",
       "      <td>0.000000</td>\n",
       "    </tr>\n",
       "    <tr>\n",
       "      <th>fare</th>\n",
       "      <td>0.000000</td>\n",
       "    </tr>\n",
       "    <tr>\n",
       "      <th>class</th>\n",
       "      <td>0.000000</td>\n",
       "    </tr>\n",
       "    <tr>\n",
       "      <th>who</th>\n",
       "      <td>0.000000</td>\n",
       "    </tr>\n",
       "    <tr>\n",
       "      <th>adult_male</th>\n",
       "      <td>0.000000</td>\n",
       "    </tr>\n",
       "    <tr>\n",
       "      <th>alive</th>\n",
       "      <td>0.000000</td>\n",
       "    </tr>\n",
       "    <tr>\n",
       "      <th>alone</th>\n",
       "      <td>0.000000</td>\n",
       "    </tr>\n",
       "  </tbody>\n",
       "</table>\n",
       "</div>"
      ],
      "text/plain": [
       "             missing_rate\n",
       "deck             0.772166\n",
       "age              0.198653\n",
       "embarked         0.002245\n",
       "embark_town      0.002245\n",
       "survived         0.000000\n",
       "pclass           0.000000\n",
       "sex              0.000000\n",
       "sibsp            0.000000\n",
       "parch            0.000000\n",
       "fare             0.000000\n",
       "class            0.000000\n",
       "who              0.000000\n",
       "adult_male       0.000000\n",
       "alive            0.000000\n",
       "alone            0.000000"
      ]
     },
     "execution_count": 3,
     "metadata": {},
     "output_type": "execute_result"
    }
   ],
   "source": [
    "df.info()\n",
    "df.isna().mean().sort_values(ascending=False).to_frame(\"missing_rate\")"
   ]
  },
  {
   "cell_type": "raw",
   "id": "dabf85e8-a16a-4699-9719-e905b91518b4",
   "metadata": {},
   "source": [
    "4) Select useful columns (drop high-NaN / leak-prone)\n",
    "\n",
    "Keep core predictive features and drop noisy/high-missing ones like deck and embark_town (redundant with embarked), \n",
    "adult_male (derived), class (duplicate of pclass), who (derived), alive (leak of target)."
   ]
  },
  {
   "cell_type": "code",
   "execution_count": 4,
   "id": "309059a6-14ff-4735-8ebd-f3ce7f52f920",
   "metadata": {},
   "outputs": [
    {
     "data": {
      "text/html": [
       "<div>\n",
       "<style scoped>\n",
       "    .dataframe tbody tr th:only-of-type {\n",
       "        vertical-align: middle;\n",
       "    }\n",
       "\n",
       "    .dataframe tbody tr th {\n",
       "        vertical-align: top;\n",
       "    }\n",
       "\n",
       "    .dataframe thead th {\n",
       "        text-align: right;\n",
       "    }\n",
       "</style>\n",
       "<table border=\"1\" class=\"dataframe\">\n",
       "  <thead>\n",
       "    <tr style=\"text-align: right;\">\n",
       "      <th></th>\n",
       "      <th>survived</th>\n",
       "      <th>pclass</th>\n",
       "      <th>sex</th>\n",
       "      <th>age</th>\n",
       "      <th>sibsp</th>\n",
       "      <th>parch</th>\n",
       "      <th>fare</th>\n",
       "      <th>embarked</th>\n",
       "      <th>alone</th>\n",
       "    </tr>\n",
       "  </thead>\n",
       "  <tbody>\n",
       "    <tr>\n",
       "      <th>0</th>\n",
       "      <td>0</td>\n",
       "      <td>3</td>\n",
       "      <td>male</td>\n",
       "      <td>22.0</td>\n",
       "      <td>1</td>\n",
       "      <td>0</td>\n",
       "      <td>7.2500</td>\n",
       "      <td>S</td>\n",
       "      <td>False</td>\n",
       "    </tr>\n",
       "    <tr>\n",
       "      <th>1</th>\n",
       "      <td>1</td>\n",
       "      <td>1</td>\n",
       "      <td>female</td>\n",
       "      <td>38.0</td>\n",
       "      <td>1</td>\n",
       "      <td>0</td>\n",
       "      <td>71.2833</td>\n",
       "      <td>C</td>\n",
       "      <td>False</td>\n",
       "    </tr>\n",
       "    <tr>\n",
       "      <th>2</th>\n",
       "      <td>1</td>\n",
       "      <td>3</td>\n",
       "      <td>female</td>\n",
       "      <td>26.0</td>\n",
       "      <td>0</td>\n",
       "      <td>0</td>\n",
       "      <td>7.9250</td>\n",
       "      <td>S</td>\n",
       "      <td>True</td>\n",
       "    </tr>\n",
       "    <tr>\n",
       "      <th>3</th>\n",
       "      <td>1</td>\n",
       "      <td>1</td>\n",
       "      <td>female</td>\n",
       "      <td>35.0</td>\n",
       "      <td>1</td>\n",
       "      <td>0</td>\n",
       "      <td>53.1000</td>\n",
       "      <td>S</td>\n",
       "      <td>False</td>\n",
       "    </tr>\n",
       "    <tr>\n",
       "      <th>4</th>\n",
       "      <td>0</td>\n",
       "      <td>3</td>\n",
       "      <td>male</td>\n",
       "      <td>35.0</td>\n",
       "      <td>0</td>\n",
       "      <td>0</td>\n",
       "      <td>8.0500</td>\n",
       "      <td>S</td>\n",
       "      <td>True</td>\n",
       "    </tr>\n",
       "  </tbody>\n",
       "</table>\n",
       "</div>"
      ],
      "text/plain": [
       "   survived  pclass     sex   age  sibsp  parch     fare embarked  alone\n",
       "0         0       3    male  22.0      1      0   7.2500        S  False\n",
       "1         1       1  female  38.0      1      0  71.2833        C  False\n",
       "2         1       3  female  26.0      0      0   7.9250        S   True\n",
       "3         1       1  female  35.0      1      0  53.1000        S  False\n",
       "4         0       3    male  35.0      0      0   8.0500        S   True"
      ]
     },
     "execution_count": 4,
     "metadata": {},
     "output_type": "execute_result"
    }
   ],
   "source": [
    "keep = [\"survived\", \"pclass\", \"sex\", \"age\", \"sibsp\", \"parch\", \"fare\", \"embarked\", \"alone\"]\n",
    "df =df[keep].copy()\n",
    "df.head(5)"
   ]
  },
  {
   "cell_type": "raw",
   "id": "ceeb737c-f052-40c4-a42d-fe6b1559174d",
   "metadata": {},
   "source": [
    "5) Impute missing values deterministically\n",
    "\t•\tage: median by (sex, pclass) — stable, sensible.\n",
    "\t•\tembarked: mode.\n",
    "\t•\tfare: median (rare NaNs)."
   ]
  },
  {
   "cell_type": "code",
   "execution_count": 5,
   "id": "dc9918d6-3528-4038-b218-4c3e1c657e9a",
   "metadata": {},
   "outputs": [
    {
     "data": {
      "text/plain": [
       "survived    0\n",
       "pclass      0\n",
       "sex         0\n",
       "age         0\n",
       "sibsp       0\n",
       "parch       0\n",
       "fare        0\n",
       "embarked    0\n",
       "alone       0\n",
       "dtype: int64"
      ]
     },
     "execution_count": 5,
     "metadata": {},
     "output_type": "execute_result"
    }
   ],
   "source": [
    "age_medians = df.groupby([\"sex\", \"pclass\"])[\"age\"].median()\n",
    "def impute_age(row):\n",
    "    if pd.isna(row[\"age\"]):\n",
    "        return age_medians.loc[(row[\"sex\"], row[\"pclass\"])]\n",
    "    return row[\"age\"]\n",
    "\n",
    "df[\"age\"] = df.apply(impute_age, axis=1)\n",
    "\n",
    "embarked_mode = df[\"embarked\"].mode(dropna=True)[0]\n",
    "df[\"embarked\"] = df[\"embarked\"].fillna(embarked_mode)\n",
    "\n",
    "df[\"fare\"] = df[\"fare\"].fillna(df[\"fare\"].median())\n",
    "\n",
    "df.isna().sum()"
   ]
  },
  {
   "cell_type": "raw",
   "id": "b39163e9-474b-4968-8db1-865ab25fe4f7",
   "metadata": {},
   "source": [
    "6) Final dtype sanity + quick descriptive stats"
   ]
  },
  {
   "cell_type": "code",
   "execution_count": 6,
   "id": "3a42abb5-24d3-4682-adf2-2f11ff5cd556",
   "metadata": {},
   "outputs": [
    {
     "data": {
      "text/plain": [
       "survived      int64\n",
       "pclass        int64\n",
       "sex          object\n",
       "age         float64\n",
       "sibsp         int64\n",
       "parch         int64\n",
       "fare        float64\n",
       "embarked     object\n",
       "alone          bool\n",
       "dtype: object"
      ]
     },
     "execution_count": 6,
     "metadata": {},
     "output_type": "execute_result"
    }
   ],
   "source": [
    "df.describe(include=\"all\")\n",
    "df.dtypes"
   ]
  },
  {
   "cell_type": "raw",
   "id": "2a1412ca-ac0b-41f3-b194-cc7ab4d05f5b",
   "metadata": {},
   "source": [
    "7) Persist cleaned data to repo"
   ]
  },
  {
   "cell_type": "code",
   "execution_count": 7,
   "id": "43a95a47-7caf-4752-ac0d-570621e2ecf4",
   "metadata": {},
   "outputs": [
    {
     "data": {
      "text/plain": [
       "(891, 'rows saved to data/titanic_clean.csv')"
      ]
     },
     "execution_count": 7,
     "metadata": {},
     "output_type": "execute_result"
    }
   ],
   "source": [
    "from pathlib import Path\n",
    "Path(\"data\").mkdir(exist_ok=True)\n",
    "df.to_csv(\"data/titanic_clean.csv\", index=False)\n",
    "len(df), \"rows saved to data/titanic_clean.csv\""
   ]
  },
  {
   "cell_type": "code",
   "execution_count": 8,
   "id": "1677d6d3-94cc-4527-b4be-8a86a0f6311c",
   "metadata": {},
   "outputs": [
    {
     "data": {
      "text/plain": [
       "((712, 9),\n",
       " (179, 9),\n",
       " np.float64(0.38342696629213485),\n",
       " np.float64(0.3854748603351955))"
      ]
     },
     "execution_count": 8,
     "metadata": {},
     "output_type": "execute_result"
    }
   ],
   "source": [
    "from sklearn.model_selection import train_test_split\n",
    "\n",
    "# Separate features and target\n",
    "X = df.drop(\"survived\", axis=1)\n",
    "y = df[\"survived\"]\n",
    "\n",
    "# One-hot encode categorical variables\n",
    "# Machine-learning models (like logistic regression or random forest) cannot process text or categorical data directly.\n",
    "# pd.get_dummies() creates new binary columns (0/1) for each category (a process called one-hot encoding).\n",
    "X = pd.get_dummies(X, drop_first=True)\n",
    "\n",
    "# Split the dataset\n",
    "X_train, X_test, y_train, y_test = train_test_split(\n",
    "    X, y, test_size=0.2, random_state=42, stratify=y\n",
    ")\n",
    "\n",
    "# Sanity check\n",
    "X_train.shape, X_test.shape, y_train.mean(), y_test.mean()"
   ]
  },
  {
   "cell_type": "code",
   "execution_count": null,
   "id": "a5800354-7e34-4278-8c67-61ab73329768",
   "metadata": {},
   "outputs": [],
   "source": []
  },
  {
   "cell_type": "raw",
   "id": "aae184f1-070c-42b8-b5b1-51566f872ce3",
   "metadata": {},
   "source": [
    "STEP 4: Train 3 models + compute metrics\n",
    "1) Imports for models and metrics"
   ]
  },
  {
   "cell_type": "code",
   "execution_count": 9,
   "id": "6a5fe431-4dfb-4ca4-ae2f-3c8b3996a53d",
   "metadata": {},
   "outputs": [],
   "source": [
    "from sklearn.linear_model import LogisticRegression\n",
    "from sklearn.tree import DecisionTreeClassifier\n",
    "from sklearn.ensemble import RandomForestClassifier\n",
    "\n",
    "from sklearn.metrics import accuracy_score, precision_score, recall_score, f1_score, classification_report, confusion_matrix\n",
    "import numpy as np\n",
    "import pandas as pd"
   ]
  },
  {
   "cell_type": "raw",
   "id": "8e2ccfe4-c71e-4a4d-aeea-7747d1124be2",
   "metadata": {},
   "source": [
    "2) Train the three models (using existing X_train, X_test, y_train, y_test)"
   ]
  },
  {
   "cell_type": "code",
   "execution_count": 10,
   "id": "cb53e91d-ca2e-4524-8cd9-ad226d40916e",
   "metadata": {},
   "outputs": [],
   "source": [
    "# 1) Logistic Regression\n",
    "logreg = LogisticRegression(max_iter=1000, n_jobs=None)  # LBFGS default; bump iterations for convergence\n",
    "logreg.fit(X_train, y_train)\n",
    "y_pred_lr = logreg.predict(X_test)\n",
    "\n",
    "# 2) Decision Tree (strong baseline; set a sane depth to avoid overfit)\n",
    "dt = DecisionTreeClassifier(max_depth=5, random_state=42)\n",
    "dt.fit(X_train, y_train)\n",
    "y_pred_dt = dt.predict(X_test)\n",
    "\n",
    "# 3) Random Forest (robust baseline)\n",
    "rf = RandomForestClassifier(\n",
    "    n_estimators=300, \n",
    "    max_depth=None, \n",
    "    random_state=42, \n",
    "    n_jobs=-1\n",
    ")\n",
    "rf.fit(X_train, y_train)\n",
    "y_pred_rf = rf.predict(X_test)"
   ]
  },
  {
   "cell_type": "raw",
   "id": "8c2faf1e-c2da-4712-8de3-10bee6d4dea3",
   "metadata": {},
   "source": [
    "3) Metric helper and evaluation table (Accuracy, Precision, Recall, F1)"
   ]
  },
  {
   "cell_type": "code",
   "execution_count": 11,
   "id": "5b0f94c2-a958-45f1-aa97-4675ad5f6d08",
   "metadata": {},
   "outputs": [
    {
     "data": {
      "text/html": [
       "<div>\n",
       "<style scoped>\n",
       "    .dataframe tbody tr th:only-of-type {\n",
       "        vertical-align: middle;\n",
       "    }\n",
       "\n",
       "    .dataframe tbody tr th {\n",
       "        vertical-align: top;\n",
       "    }\n",
       "\n",
       "    .dataframe thead th {\n",
       "        text-align: right;\n",
       "    }\n",
       "</style>\n",
       "<table border=\"1\" class=\"dataframe\">\n",
       "  <thead>\n",
       "    <tr style=\"text-align: right;\">\n",
       "      <th></th>\n",
       "      <th>accuracy</th>\n",
       "      <th>precision</th>\n",
       "      <th>recall</th>\n",
       "      <th>f1</th>\n",
       "    </tr>\n",
       "  </thead>\n",
       "  <tbody>\n",
       "    <tr>\n",
       "      <th>LogisticRegression</th>\n",
       "      <td>0.810056</td>\n",
       "      <td>0.786885</td>\n",
       "      <td>0.695652</td>\n",
       "      <td>0.738462</td>\n",
       "    </tr>\n",
       "    <tr>\n",
       "      <th>RandomForest</th>\n",
       "      <td>0.804469</td>\n",
       "      <td>0.774194</td>\n",
       "      <td>0.695652</td>\n",
       "      <td>0.732824</td>\n",
       "    </tr>\n",
       "    <tr>\n",
       "      <th>DecisionTree</th>\n",
       "      <td>0.776536</td>\n",
       "      <td>0.754386</td>\n",
       "      <td>0.623188</td>\n",
       "      <td>0.682540</td>\n",
       "    </tr>\n",
       "  </tbody>\n",
       "</table>\n",
       "</div>"
      ],
      "text/plain": [
       "                    accuracy  precision    recall        f1\n",
       "LogisticRegression  0.810056   0.786885  0.695652  0.738462\n",
       "RandomForest        0.804469   0.774194  0.695652  0.732824\n",
       "DecisionTree        0.776536   0.754386  0.623188  0.682540"
      ]
     },
     "execution_count": 11,
     "metadata": {},
     "output_type": "execute_result"
    }
   ],
   "source": [
    "def eval_clf(y_true, y_pred):\n",
    "    return {\n",
    "        \"accuracy\":  accuracy_score(y_true, y_pred),\n",
    "        \"precision\": precision_score(y_true, y_pred, zero_division=0),\n",
    "        \"recall\":    recall_score(y_true, y_pred, zero_division=0),\n",
    "        \"f1\":        f1_score(y_true, y_pred, zero_division=0),\n",
    "    }\n",
    "\n",
    "results = pd.DataFrame({\n",
    "    \"LogisticRegression\": eval_clf(y_test, y_pred_lr),\n",
    "    \"DecisionTree\":       eval_clf(y_test, y_pred_dt),\n",
    "    \"RandomForest\":       eval_clf(y_test, y_pred_rf),\n",
    "}).T.sort_values(\"f1\", ascending=False)\n",
    "\n",
    "results"
   ]
  },
  {
   "cell_type": "raw",
   "id": "fa0fe44e-1891-42d3-a9e9-a2f2919721b4",
   "metadata": {},
   "source": [
    "4) Classification reports (qualitative view per class)"
   ]
  },
  {
   "cell_type": "code",
   "execution_count": 12,
   "id": "f30281ee-23ad-4f4f-80a9-b1f86470a811",
   "metadata": {},
   "outputs": [
    {
     "name": "stdout",
     "output_type": "stream",
     "text": [
      "Logistic Regression\n",
      "               precision    recall  f1-score   support\n",
      "\n",
      "           0      0.822     0.882     0.851       110\n",
      "           1      0.787     0.696     0.738        69\n",
      "\n",
      "    accuracy                          0.810       179\n",
      "   macro avg      0.804     0.789     0.795       179\n",
      "weighted avg      0.808     0.810     0.808       179\n",
      "\n",
      "Decision Tree\n",
      "               precision    recall  f1-score   support\n",
      "\n",
      "           0      0.787     0.873     0.828       110\n",
      "           1      0.754     0.623     0.683        69\n",
      "\n",
      "    accuracy                          0.777       179\n",
      "   macro avg      0.771     0.748     0.755       179\n",
      "weighted avg      0.774     0.777     0.772       179\n",
      "\n",
      "Random Forest\n",
      "               precision    recall  f1-score   support\n",
      "\n",
      "           0      0.821     0.873     0.846       110\n",
      "           1      0.774     0.696     0.733        69\n",
      "\n",
      "    accuracy                          0.804       179\n",
      "   macro avg      0.797     0.784     0.789       179\n",
      "weighted avg      0.803     0.804     0.802       179\n",
      "\n"
     ]
    }
   ],
   "source": [
    "print(\"Logistic Regression\\n\", classification_report(y_test, y_pred_lr, digits=3))\n",
    "print(\"Decision Tree\\n\",       classification_report(y_test, y_pred_dt, digits=3))\n",
    "print(\"Random Forest\\n\",       classification_report(y_test, y_pred_rf, digits=3))"
   ]
  },
  {
   "cell_type": "raw",
   "id": "929cf0c7-3cb5-4485-9475-980f71980ed1",
   "metadata": {},
   "source": [
    "5) Confusion matrices (sanity check errors)"
   ]
  },
  {
   "cell_type": "code",
   "execution_count": 13,
   "id": "9e09b587-124e-4d26-b9be-a1c639e4db81",
   "metadata": {},
   "outputs": [
    {
     "data": {
      "image/png": "[encoded data removed]",
      "text/plain": [
       "<Figure size 640x480 with 1 Axes>"
      ]
     },
     "metadata": {},
     "output_type": "display_data"
    },
    {
     "data": {
      "image/png": "[encoded data removed]",
      "text/plain": [
       "<Figure size 640x480 with 1 Axes>"
      ]
     },
     "metadata": {},
     "output_type": "display_data"
    },
    {
     "data": {
      "image/png": "[encoded data removed]",
      "text/plain": [
       "<Figure size 640x480 with 1 Axes>"
      ]
     },
     "metadata": {},
     "output_type": "display_data"
    },
    {
     "name": "stdout",
     "output_type": "stream",
     "text": [
      "threshold=0.3 -> accuracy=0.765, precision=0.659, recall=0.812, f1=0.727\n",
      "threshold=0.5 -> accuracy=0.810, precision=0.787, recall=0.696, f1=0.738\n",
      "threshold=0.7 -> accuracy=0.793, precision=0.881, recall=0.536, f1=0.667\n"
     ]
    }
   ],
   "source": [
    "import matplotlib.pyplot as plt\n",
    "import numpy as np\n",
    "\n",
    "def plot_cm(y_true, y_pred, title):\n",
    "    cm = confusion_matrix(y_true, y_pred)\n",
    "    fig, ax = plt.subplots()\n",
    "    im = ax.imshow(cm)\n",
    "    ax.set_title(title)\n",
    "    ax.set_xlabel(\"Predicted\")\n",
    "    ax.set_ylabel(\"Actual\")\n",
    "    ax.set_xticks([0,1]); ax.set_yticks([0,1])\n",
    "    for (i,j), v in np.ndenumerate(cm):\n",
    "        ax.text(j, i, str(v), ha=\"center\", va=\"center\")\n",
    "    plt.show()\n",
    "\n",
    "plot_cm(y_test, y_pred_lr, \"Confusion Matrix — Logistic Regression\")\n",
    "plot_cm(y_test, y_pred_dt, \"Confusion Matrix — Decision Tree\")\n",
    "plot_cm(y_test, y_pred_rf, \"Confusion Matrix — Random Forest\")\n",
    "\n",
    "# Probability thresholds for Logistic Regression (to see trade-offs)\n",
    "# View how often the positive class is predicted at different thresholds\n",
    "y_proba_lr = logreg.predict_proba(X_test)[:,1]\n",
    "for t in [0.3, 0.5, 0.7]:\n",
    "    y_hat = (y_proba_lr >= t).astype(int)\n",
    "    f1 = f1_score(y_test, y_hat, zero_division=0)\n",
    "    print(f\"threshold={t:.1f} -> accuracy={accuracy_score(y_test,y_hat):.3f}, precision={precision_score(y_test,y_hat,zero_division=0):.3f}, recall={recall_score(y_test,y_hat,zero_division=0):.3f}, f1={f1:.3f}\")"
   ]
  },
  {
   "cell_type": "markdown",
   "id": "a35242d7-1852-4fab-9359-d17ff094ceee",
   "metadata": {},
   "source": [
    "## Step 5 — Metrics Summary, Model Choice, Next Actions\n",
    "\n",
    "### What the metrics mean (Titanic context)\n",
    "- **Accuracy** = (TP + TN) / All. Overall hit rate. Can look high even if the model ignores the minority class (survivors ≈ 38%).\n",
    "- **Precision (class=1: survived)** = TP / (TP + FP). Of the passengers predicted as *survived*, how many truly survived? Penalises **false alarms** (FP).\n",
    "- **Recall (class=1: survived)** = TP / (TP + FN). Of the passengers who truly survived, how many did we catch? Penalises **missed survivors** (FN).\n",
    "- **F1 (class=1)** = harmonic mean of precision & recall. Single number that balances both; good when classes are slightly imbalanced and both error types matter.\n",
    "\n",
    "> Confusion-matrix reading guide (2×2):\n",
    "> - **TP** (predict 1, true 1): correctly predicted survivors.\n",
    "> - **FP** (predict 1, true 0): predicted survivor but actually did not survive (false alarm).\n",
    "> - **FN** (predict 0, true 1): missed a true survivor (miss).\n",
    "> - **TN** (predict 0, true 0): correctly predicted non-survivors.\n",
    "\n",
    "### Model comparison\n",
    "- **Logistic Regression**: linear baseline. Pros: simple, fast, explainable. Cons: limited non-linear capture.\n",
    "- **Decision Tree (max_depth=5)**: interpretable rules. Cons: underfits vs. ensembles, sensitive to small changes.\n",
    "- **Random Forest (n_estimators=300)**: usually strongest **F1** here due to variance reduction and non-linear capture.\n",
    "\n",
    "**Why F1 matters here:** Business-wise, both errors hurt:\n",
    "- False positives: we label a non-survivor as survivor (over-optimistic).\n",
    "- False negatives: we miss a true survivor (under-detect).  \n",
    "F1 forces a balance.\n",
    "\n",
    "### My pick (data-driven)\n",
    "- **Select: Random Forest** if it leads on **F1** and its confusion matrix shows fewer **FN** without exploding **FP**.\n",
    "- **Fallback: Logistic Regression** if its F1 is within ~1–2 pts of RF but with cleaner, more explainable trade-offs.\n",
    "\n",
    "> Tie-breaker: If recall is strategically more important (catch more true survivors), prefer the model with higher **recall** even if precision dips a bit. Adjust decision threshold if needed.\n",
    "\n",
    "### One actionable next step\n",
    "- **Tune Random Forest** via `GridSearchCV` (or `RandomizedSearchCV`) focusing on:\n",
    "  - `n_estimators`: [200, 400, 800]\n",
    "  - `max_depth`: [None, 6, 10, 14]\n",
    "  - `min_samples_split`: [2, 5, 10]\n",
    "  - `min_samples_leaf`: [1, 2, 4]\n",
    "  - `max_features`: [\"sqrt\", 0.5, None]\n",
    "  - **Scoring**: `\"f1\"`\n",
    "  - **CV**: `cv=5`, **stratified**\n",
    "  \n",
    "Or, **build a proper Pipeline** that includes preprocessing (scaling numeric, one-hot for categoricals) + model, then grid-search the pipeline end-to-end to avoid leakage.\n",
    "\n",
    "### Threshold note (Logistic Regression)\n",
    "If we need more **recall**, lower the decision threshold (e.g., 0.5 → 0.4 or 0.3) and re-check precision/recall/F1 trade-offs.\n",
    "\n",
    "---\n",
    "\n",
    "## Decision log\n",
    "- **Winner:** Logistic Regression  \n",
    "- **Key metrics (test set):**  \n",
    "  - **Accuracy:** 0.810  (145/179)  \n",
    "  - **Precision (class=1):** 0.787  \n",
    "  - **Recall (class=1):** 0.696  \n",
    "  - **F1 (class=1):** 0.738  \n",
    "\n",
    "- **Confusion matrix (counts):**  \n",
    "  - TN = 97, FP = 13, FN = 21, TP = 48  \n",
    "  - **Observation:** 21 FN vs 13 FP → recall is the larger pain point.\n",
    "\n",
    "- **Model rationale:** Balanced precision/recall with simple, interpretable coefficients. CM shows manageable FP with acceptable F1 for the Week-1 scope.\n",
    "\n",
    "- **Next step (chosen):** **Pipeline + GridSearch**  \n",
    "  - Build `Pipeline([OneHotEncoder, LogisticRegression])` and tune:  \n",
    "    - `logreg__C: [0.1, 1, 3, 10]`  \n",
    "    - `logreg__penalty: ['l2']`  \n",
    "    - `logreg__class_weight: [None, 'balanced']`  \n",
    "    - **scoring='f1'**, **cv=5**, **stratified**.  \n",
    "  - If business aims to reduce FN, revisit **threshold tuning** afterwards (optimise F1 or set a minimum recall)."
   ]
  },
  {
   "cell_type": "raw",
   "id": "99bfe266-4f72-4ca9-92e2-9f8657b34f5d",
   "metadata": {},
   "source": [
    "6) Final step: Logistic Regression Pipeline:"
   ]
  },
  {
   "cell_type": "code",
   "execution_count": 14,
   "id": "c669c99f-821e-4932-97dc-d92b43898e15",
   "metadata": {},
   "outputs": [
    {
     "data": {
      "text/plain": [
       "{'threshold': 0.4,\n",
       " 'TN': 91,\n",
       " 'FP': 19,\n",
       " 'FN': 15,\n",
       " 'TP': 54,\n",
       " 'accuracy': 0.81,\n",
       " 'precision': 0.74,\n",
       " 'recall': 0.783,\n",
       " 'f1': 0.761}"
      ]
     },
     "execution_count": 14,
     "metadata": {},
     "output_type": "execute_result"
    }
   ],
   "source": [
    "import numpy as np\n",
    "from sklearn.metrics import f1_score, precision_score, recall_score, accuracy_score\n",
    "\n",
    "y_proba = logreg.predict_proba(X_test)[:, 1]\n",
    "\n",
    "grid = np.linspace(0.05, 0.95, 19)  # 5% to 95% by 5%\n",
    "rows = []\n",
    "for t in grid:\n",
    "    y_hat = (y_proba >= t).astype(int)\n",
    "    rows.append({\n",
    "        \"threshold\": t,\n",
    "        \"accuracy\":  accuracy_score(y_test, y_hat),\n",
    "        \"precision\": precision_score(y_test, y_hat, zero_division=0),\n",
    "        \"recall\":    recall_score(y_test, y_hat, zero_division=0),\n",
    "        \"f1\":        f1_score(y_test, y_hat, zero_division=0),\n",
    "    })\n",
    "\n",
    "thr_table = pd.DataFrame(rows).round(3).sort_values(\"f1\", ascending=False)\n",
    "thr_table.head(10)  # top thresholds by F1\n",
    "\n",
    "# Pick the F1-maximising threshold:\n",
    "best_row = thr_table.iloc[0]\n",
    "best_t = float(best_row[\"threshold\"])\n",
    "best_row, best_t\n",
    "\n",
    "# Evaluate confusion matrix and a clean metric summary at that threshold:\n",
    "from sklearn.metrics import confusion_matrix\n",
    "\n",
    "y_hat_best = (y_proba >= best_t).astype(int)\n",
    "cm = confusion_matrix(y_test, y_hat_best)\n",
    "tn, fp, fn, tp = cm.ravel()\n",
    "\n",
    "summary = {\n",
    "    \"threshold\": round(best_t, 3),\n",
    "    \"TN\": int(tn), \"FP\": int(fp), \"FN\": int(fn), \"TP\": int(tp),\n",
    "    \"accuracy\":  round(accuracy_score(y_test, y_hat_best), 3),\n",
    "    \"precision\": round(precision_score(y_test, y_hat_best, zero_division=0), 3),\n",
    "    \"recall\":    round(recall_score(y_test, y_hat_best, zero_division=0), 3),\n",
    "    \"f1\":        round(f1_score(y_test, y_hat_best, zero_division=0), 3),\n",
    "}\n",
    "summary"
   ]
  },
  {
   "cell_type": "code",
   "execution_count": 15,
   "id": "c1067cab-6580-4475-b9c4-cf51a2285ea9",
   "metadata": {},
   "outputs": [
    {
     "name": "stdout",
     "output_type": "stream",
     "text": [
      "{'threshold': 0.4, 'accuracy': 0.81, 'precision': 0.74, 'recall': 0.783, 'f1': 0.761}\n",
      "[[91 19]\n",
      " [15 54]]\n",
      "              precision    recall  f1-score   support\n",
      "\n",
      "           0      0.858     0.827     0.843       110\n",
      "           1      0.740     0.783     0.761        69\n",
      "\n",
      "    accuracy                          0.810       179\n",
      "   macro avg      0.799     0.805     0.802       179\n",
      "weighted avg      0.813     0.810     0.811       179\n",
      "\n"
     ]
    }
   ],
   "source": [
    "BEST_T = 0.40\n",
    "y_proba_lr = logreg.predict_proba(X_test)[:, 1]\n",
    "y_pred_thr = (y_proba_lr >= BEST_T).astype(int)\n",
    "\n",
    "from sklearn.metrics import accuracy_score, precision_score, recall_score, f1_score, confusion_matrix, classification_report\n",
    "print({\n",
    "    \"threshold\": BEST_T,\n",
    "    \"accuracy\":  round(accuracy_score(y_test, y_pred_thr), 3),\n",
    "    \"precision\": round(precision_score(y_test, y_pred_thr, zero_division=0), 3),\n",
    "    \"recall\":    round(recall_score(y_test, y_pred_thr, zero_division=0), 3),\n",
    "    \"f1\":        round(f1_score(y_test, y_pred_thr, zero_division=0), 3),\n",
    "})\n",
    "print(confusion_matrix(y_test, y_pred_thr))\n",
    "print(classification_report(y_test, y_pred_thr, digits=3))"
   ]
  },
  {
   "cell_type": "markdown",
   "id": "20effa53-f256-4e69-883a-63c3826b5b44",
   "metadata": {},
   "source": [
    "### Threshold decision\n",
    "- Selected threshold: **0.40** (LogReg)\n",
    "- Metrics @0.40 — Acc **0.810**, Prec **0.740**, Rec **0.783**, F1 **0.761**\n",
    "- CM @0.40 — TN=91, FP=19, FN=15, TP=54\n",
    "- Rationale: Improves **recall** and **F1** (↓ FN: 21→15) with acceptable precision cost (FP: 13→19). Aligns with goal to avoid missing positives."
   ]
  },
  {
   "cell_type": "markdown",
   "id": "f63681ef-3074-41a4-a0e8-1695ff0cb6ed",
   "metadata": {},
   "source": [
    "## Week 1 — Complete ✅\n",
    "- Data cleaned, split, models trained.\n",
    "- Threshold set for Logistic Regression (0.40).\n",
    "- Decision logged in README.\n",
    "Next: build Pipeline + GridSearch (Week 2)."
   ]
  }
 ],
 "metadata": {
  "kernelspec": {
   "display_name": "Python 3 (ipykernel)",
   "language": "python",
   "name": "python3"
  },
  "language_info": {
   "codemirror_mode": {
    "name": "ipython",
    "version": 3
   },
   "file_extension": ".py",
   "mimetype": "text/x-python",
   "name": "python",
   "nbconvert_exporter": "python",
   "pygments_lexer": "ipython3",
   "version": "3.11.13"
  }
 },
 "nbformat": 4,
 "nbformat_minor": 5
}
